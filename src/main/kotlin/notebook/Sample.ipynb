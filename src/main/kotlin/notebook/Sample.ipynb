{
 "cells": [
  {
   "metadata": {
    "ExecuteTime": {
     "end_time": "2025-06-11T04:21:18.756058Z",
     "start_time": "2025-06-11T04:21:18.730882Z"
    }
   },
   "cell_type": "code",
   "source": "@file:DependsOn(\"/Users/gota.hasegawa/Documents/notebooksample/NotebookSample/build/classes/kotlin/main\")",
   "outputs": [],
   "execution_count": 6
  },
  {
   "metadata": {
    "ExecuteTime": {
     "end_time": "2025-06-11T04:21:33.146895Z",
     "start_time": "2025-06-11T04:21:33.116282Z"
    }
   },
   "cell_type": "code",
   "source": "import com.example.notebooksample.User",
   "outputs": [],
   "execution_count": 7
  },
  {
   "metadata": {
    "ExecuteTime": {
     "end_time": "2025-06-11T04:21:39.864777Z",
     "start_time": "2025-06-11T04:21:39.830578Z"
    }
   },
   "cell_type": "code",
   "source": "val user = User(\"hasegawa\")",
   "outputs": [],
   "execution_count": 8
  },
  {
   "metadata": {
    "ExecuteTime": {
     "end_time": "2025-06-11T04:21:45.253701Z",
     "start_time": "2025-06-11T04:21:45.216092Z"
    }
   },
   "cell_type": "code",
   "source": "user.name",
   "outputs": [
    {
     "data": {
      "text/plain": [
       "hasegawa"
      ]
     },
     "execution_count": 9,
     "metadata": {},
     "output_type": "execute_result"
    }
   ],
   "execution_count": 9
  },
  {
   "metadata": {},
   "cell_type": "code",
   "outputs": [],
   "execution_count": null,
   "source": ""
  }
 ],
 "metadata": {
  "kernelspec": {
   "display_name": "Kotlin",
   "language": "kotlin",
   "name": "kotlin"
  },
  "language_info": {
   "name": "kotlin",
   "version": "1.9.23",
   "mimetype": "text/x-kotlin",
   "file_extension": ".kt",
   "pygments_lexer": "kotlin",
   "codemirror_mode": "text/x-kotlin",
   "nbconvert_exporter": ""
  },
  "ktnbPluginMetadata": {
   "projectLibraries": false,
   "projectDependencies": [
    "NotebookSample.main"
   ],
   "sessionRunMode": "IDE_PROCESS"
  }
 },
 "nbformat": 4,
 "nbformat_minor": 0
}
