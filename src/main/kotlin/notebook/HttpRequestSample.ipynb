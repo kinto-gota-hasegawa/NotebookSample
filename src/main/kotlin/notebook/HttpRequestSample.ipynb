{
 "cells": [
  {
   "cell_type": "code",
   "metadata": {
    "collapsed": true,
    "ExecuteTime": {
     "end_time": "2025-06-11T04:32:45.903432Z",
     "start_time": "2025-06-11T04:32:44.347194Z"
    }
   },
   "source": [
    "@file:DependsOn(\"io.ktor:ktor-client-cio:2.3.7\")\n",
    "@file:DependsOn(\"io.ktor:ktor-client-content-negotiation:2.3.7\")\n",
    "@file:DependsOn(\"org.jetbrains.kotlinx:kotlinx-serialization-json:1.6.3\")"
   ],
   "outputs": [],
   "execution_count": 3
  },
  {
   "metadata": {
    "ExecuteTime": {
     "end_time": "2025-06-11T05:16:13.575982Z",
     "start_time": "2025-06-11T05:16:13.476334Z"
    }
   },
   "cell_type": "code",
   "source": [
    "import io.ktor.client.*\n",
    "import io.ktor.client.request.*\n",
    "import io.ktor.client.statement.*\n",
    "import io.ktor.client.plugins.contentnegotiation.*\n",
    "import io.ktor.serialization.JsonConvertException\n",
    "import kotlinx.coroutines.runBlocking\n",
    "import kotlinx.serialization.*\n",
    "import kotlinx.serialization.json.*\n",
    "\n",
    "// HttpClient を作成\n",
    "val client = HttpClient {\n",
    "    install(ContentNegotiation) {\n",
    "    }\n",
    "}\n",
    "\n",
    "// GETリクエストを送信（Ktorサーバーが起動している必要あり）\n",
    "runBlocking {\n",
    "    val response: HttpResponse = client.get(\"http://localhost:8080/\")\n",
    "    // レスポンス本文を取得して表示\n",
    "    val bodyText: String = response.bodyAsText()\n",
    "    println(\"Response: $bodyText\")\n",
    "}"
   ],
   "outputs": [
    {
     "name": "stdout",
     "output_type": "stream",
     "text": [
      "Response: Hello World!\n"
     ]
    }
   ],
   "execution_count": 8
  },
  {
   "metadata": {},
   "cell_type": "code",
   "outputs": [],
   "execution_count": null,
   "source": ""
  }
 ],
 "metadata": {
  "kernelspec": {
   "display_name": "Kotlin",
   "language": "kotlin",
   "name": "kotlin"
  },
  "language_info": {
   "name": "kotlin",
   "version": "1.9.23",
   "mimetype": "text/x-kotlin",
   "file_extension": ".kt",
   "pygments_lexer": "kotlin",
   "codemirror_mode": "text/x-kotlin",
   "nbconvert_exporter": ""
  },
  "ktnbPluginMetadata": {
   "projectLibraries": true
  }
 },
 "nbformat": 4,
 "nbformat_minor": 0
}
